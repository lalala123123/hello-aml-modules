{
 "cells": [
  {
   "cell_type": "code",
   "execution_count": 1,
   "metadata": {},
   "outputs": [],
   "source": [
    "from azureml.core import Workspace, Run, Dataset\n",
    "from azureml.pipeline.wrapper import Pipeline, dsl, Module\n",
    "\n",
    "ws = Workspace.get(name='itp-pilot', subscription_id='4aaa645c-5ae2-4ae9-a17a-84b9023bc56a', resource_group='itp-pilot-ResGrp')\n",
    "#ws = Workspace.get(name='cmaksphillywestcentralus', subscription_id='06237282-1ddd-4677-9878-5bc19cc0001a', resource_group='ITPTestingWorkers')\n",
    "\n",
    "train_module_func = Module.from_yaml(ws, './train-score-eval/train.yaml')\n",
    "score_module_func = Module.from_yaml(ws, './train-score-eval/score.yaml')\n",
    "eval_module_func = Module.from_yaml(ws, './train-score-eval/eval.yaml')\n",
    "compare_module_func = Module.from_yaml(ws, './train-score-eval/compare2.yaml')\n",
    "\n",
    "train_data = Dataset.get_by_name(ws, 'training_data')\n",
    "test_data = Dataset.get_by_name(ws, 'test_data')"
   ]
  },
  {
   "cell_type": "code",
   "execution_count": 2,
   "metadata": {},
   "outputs": [],
   "source": [
    "# define a sub pipeline\n",
    "@dsl.pipeline(name = 'Train-Score-Eval', \n",
    "              description = 'train model and evaluate model perf')\n",
    "def training_pipeline(input_data, learning_rate):\n",
    "    train = train_module_func(\n",
    "        training_data=input_data, \n",
    "        max_epochs=5, \n",
    "        learning_rate=learning_rate)\n",
    "   \n",
    "    score = score_module_func(\n",
    "        model_input=train.outputs.model_output, \n",
    "        test_data=test_data)\n",
    "\n",
    "    eval = eval_module_func(scoring_result=score.outputs.score_output)\n",
    "\n",
    "    return {'eval_output': eval.outputs.eval_output, 'model_output': train.outputs.model_output}"
   ]
  },
  {
   "cell_type": "code",
   "execution_count": 3,
   "metadata": {},
   "outputs": [],
   "source": [
    "# define pipeline with sub pipeline\n",
    "@dsl.pipeline(name = 'Dummy automl pipeline - aks', \n",
    "              description = 'select best model trained with different learning rate',\n",
    "              default_compute_target = 'k80-16-a')\n",
    "def dummy_automl_pipeline():\n",
    "    train_and_evalute_model1 = training_pipeline(train_data, 0.01)\n",
    "    train_and_evalute_model2 = training_pipeline(train_data, 0.02)\n",
    "    \n",
    "    compare = compare_module_func(\n",
    "        model1=train_and_evalute_model1.outputs.model_output, \n",
    "        eval_result1=train_and_evalute_model1.outputs.eval_output,\n",
    "        model2=train_and_evalute_model2.outputs.model_output,\n",
    "        eval_result2=train_and_evalute_model2.outputs.eval_output\n",
    "    )\n",
    "\n",
    "    return {**compare.outputs}\n",
    "\n",
    "# create a pipeline\n",
    "pipeline = dummy_automl_pipeline()"
   ]
  },
  {
   "cell_type": "code",
   "execution_count": 4,
   "metadata": {
    "scrolled": false
   },
   "outputs": [],
   "source": [
    "#pipeline.validate()"
   ]
  },
  {
   "cell_type": "code",
   "execution_count": 5,
   "metadata": {},
   "outputs": [
    {
     "output_type": "stream",
     "name": "stdout",
     "text": "k80-16-a not found in workspace, assume this is an AmlCompute\nSubmitted PipelineRun 3c307b5c-d185-46af-91a1-610f6554da4b\nLink to Azure Machine Learning Portal: https://ml.azure.com/experiments/samples/runs/3c307b5c-d185-46af-91a1-610f6554da4b?wsid=/subscriptions/4aaa645c-5ae2-4ae9-a17a-84b9023bc56a/resourcegroups/itp-pilot-ResGrp/workspaces/itp-pilot\n"
    },
    {
     "output_type": "execute_result",
     "data": {
      "text/plain": "Run(Experiment: samples,\nId: 3c307b5c-d185-46af-91a1-610f6554da4b,\nType: azureml.PipelineRun,\nStatus: NotStarted)",
      "text/html": "<table style=\"width:100%\"><tr><th>Experiment</th><th>Id</th><th>Type</th><th>Status</th><th>Details Page</th><th>Docs Page</th></tr><tr><td>samples</td><td>3c307b5c-d185-46af-91a1-610f6554da4b</td><td>azureml.PipelineRun</td><td>NotStarted</td><td><a href=\"https://ml.azure.com/experiments/samples/runs/3c307b5c-d185-46af-91a1-610f6554da4b?wsid=/subscriptions/4aaa645c-5ae2-4ae9-a17a-84b9023bc56a/resourcegroups/itp-pilot-ResGrp/workspaces/itp-pilot\" target=\"_blank\" rel=\"noopener\">Link to Azure Machine Learning studio</a></td><td><a href=\"https://docs.microsoft.com/en-us/python/api/overview/azure/ml/intro?view=azure-ml-py\" target=\"_blank\" rel=\"noopener\">Link to Documentation</a></td></tr></table>"
     },
     "metadata": {},
     "execution_count": 5
    }
   ],
   "source": [
    "pipeline.submit(experiment_name='samples')"
   ]
  }
 ],
 "metadata": {
  "kernelspec": {
   "display_name": "Python 3.8.0 64-bit",
   "language": "python",
   "name": "python38064bit9033b9ae65704e4e8c584df5ceb2f608"
  },
  "language_info": {
   "codemirror_mode": {
    "name": "ipython",
    "version": 3
   },
   "file_extension": ".py",
   "mimetype": "text/x-python",
   "name": "python",
   "nbconvert_exporter": "python",
   "pygments_lexer": "ipython3",
   "version": "3.8.0-final"
  }
 },
 "nbformat": 4,
 "nbformat_minor": 2
}