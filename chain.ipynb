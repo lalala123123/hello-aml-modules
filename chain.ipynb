{
 "cells": [
  {
   "cell_type": "code",
   "execution_count": 3,
   "metadata": {},
   "outputs": [],
   "source": [
    "from azureml.core import Workspace, Run, Dataset\n",
    "from azureml.pipeline.wrapper import Pipeline, dsl, Module\n",
    "\n",
    "ws = Workspace.get(name='kubeflow_ws_1', subscription_id='74eccef0-4b8d-4f83-b5f9-fa100d155b22', resource_group='kubeflow-demo')\n",
    "\n",
    "modulefunc = Module.load_from_yaml(ws, yaml_file='./hello-aml-modules/noop/1in1out.spec.yaml')\n",
    "data = Dataset.get_by_name(ws, 'training_data')"
   ]
  },
  {
   "cell_type": "code",
   "execution_count": 6,
   "metadata": {},
   "outputs": [
    {
     "output_type": "display_data",
     "data": {
      "text/plain": "<IPython.core.display.HTML object>",
      "text/html": "\n        <style>\n        #graph-visualization_css_id > div {\n            height: 800px;\n        }\n        #graph-visualization_css_id svg.react-dag-editor-svg-container {\n            height: 800px;\n        }\n        </style>\n        <div id=\"graph-visualization_css_id\" style=\"height: 800px; overflow: hidden\"></div>\n        <script>\n            window.graph_json={\"pipeline\": {\"name\": \"A pipeline with several modules chained 1 by 1\", \"parameters\": null, \"data_references\": {\"input1\": {\"dataset_id\": \"77c23560-aef4-4002-bb27-9771607c5393\"}}, \"steps\": {\"1 in 1 out\": {\"module\": {\"id\": \"739978df-5fa5-44ec-b68f-a5963d677eba\", \"version\": \"1\"}, \"parameters\": {\"ServingEntry\": \"\", \"MLCComputeType\": \"AmlCompute\", \"PrepareEnvironment\": \"true\", \"GpuSupport\": \"false\", \"HistoryEnabled\": \"true\", \"Framework\": \"Python\", \"Script\": \"noop.py\", \"MaxRunDurationSeconds\": \"\", \"InterpreterPath\": \"python\", \"UserManagedDependencies\": false, \"CondaDependencies\": \"{\\\"name\\\": \\\"project_environment\\\", \\\"channels\\\": [\\\"defaults\\\"], \\\"dependencies\\\": [\\\"python=3.6.8\\\", {\\\"pip\\\": [\\\"azureml-defaults\\\"]}]}\", \"DockerEnabled\": \"true\", \"BaseDockerImage\": \"mcr.microsoft.com/azureml/base:intelmpi2018.3-ubuntu16.04\", \"TargetType\": \"mlc\", \"RequireGpu\": \"False\", \"HasServingEntry\": \"False\", \"PassthroughServingMode\": \"False\", \"ModuleUI\": \"Default\", \"ModuleVersion\": \"0.0.1\", \"Owner\": \"\"}, \"inputs\": {\"input1\": {\"source\": \"input1\", \"type\": \"mount\", \"overwrite\": false}}, \"outputs\": {\"output1\": {\"destination\": \"output15ac29365\", \"type\": \"mount\", \"datastore\": \"workspaceblobstore\"}}, \"arguments\": [\"USE_STRUCTURED_ARGUMENTS\"], \"compute\": \"cpu-cluster\", \"validate\": {\"error\": []}}, \"1 in 1 outa46f9a7f\": {\"module\": {\"id\": \"739978df-5fa5-44ec-b68f-a5963d677eba\", \"version\": \"1\"}, \"parameters\": {\"ServingEntry\": \"\", \"MLCComputeType\": \"AmlCompute\", \"PrepareEnvironment\": \"true\", \"GpuSupport\": \"false\", \"HistoryEnabled\": \"true\", \"Framework\": \"Python\", \"Script\": \"noop.py\", \"MaxRunDurationSeconds\": \"\", \"InterpreterPath\": \"python\", \"UserManagedDependencies\": false, \"CondaDependencies\": \"{\\\"name\\\": \\\"project_environment\\\", \\\"channels\\\": [\\\"defaults\\\"], \\\"dependencies\\\": [\\\"python=3.6.8\\\", {\\\"pip\\\": [\\\"azureml-defaults\\\"]}]}\", \"DockerEnabled\": \"true\", \"BaseDockerImage\": \"mcr.microsoft.com/azureml/base:intelmpi2018.3-ubuntu16.04\", \"TargetType\": \"mlc\", \"RequireGpu\": \"False\", \"HasServingEntry\": \"False\", \"PassthroughServingMode\": \"False\", \"ModuleUI\": \"Default\", \"ModuleVersion\": \"0.0.1\", \"Owner\": \"\"}, \"inputs\": {\"input1\": {\"source\": \"output15ac29365\", \"type\": \"mount\"}}, \"outputs\": {\"output1\": {\"destination\": \"output1a46f9a7f\", \"type\": \"mount\", \"datastore\": \"workspaceblobstore\"}}, \"arguments\": [\"USE_STRUCTURED_ARGUMENTS\"], \"compute\": \"cpu-cluster\", \"validate\": {\"error\": []}}}}, \"modules\": [{\"module_execution_type\": \"escloud\", \"module_type\": \"0\", \"upload_state\": \"1\", \"is_deterministic\": true, \"structured_interface\": {\"inputs\": [{\"name\": \"input1\", \"label\": \"Input #1\", \"data_type_ids_list\": [\"AnyFile\"], \"is_optional\": false, \"skip_processing\": false, \"is_resource\": false, \"data_store_mode\": \"1\", \"overwrite\": true, \"data_reference_name\": \"input1\", \"dataset_types\": [\"0\", \"1\"]}], \"outputs\": [{\"name\": \"output1\", \"label\": \"Output #1\", \"data_type_id\": \"AnyFile\", \"skip_processing\": false, \"data_store_name\": \"workspaceblobstore\", \"data_store_mode\": \"1\", \"overwrite\": true, \"data_reference_name\": \"output1\"}], \"parameters\": [{\"name\": \"ServingEntry\", \"parameter_type\": \"3\", \"is_optional\": true, \"default_value\": \"\", \"set_environment_variable\": false}, {\"name\": \"Target\", \"parameter_type\": \"3\", \"is_optional\": true, \"default_value\": \"\", \"set_environment_variable\": false}, {\"name\": \"MLCComputeType\", \"parameter_type\": \"3\", \"is_optional\": true, \"default_value\": \"\", \"set_environment_variable\": false}, {\"name\": \"PrepareEnvironment\", \"parameter_type\": \"3\", \"is_optional\": true, \"default_value\": \"true\", \"set_environment_variable\": false}, {\"name\": \"GpuSupport\", \"parameter_type\": \"3\", \"is_optional\": true, \"default_value\": \"false\", \"set_environment_variable\": false}, {\"name\": \"HistoryEnabled\", \"parameter_type\": \"3\", \"is_optional\": true, \"default_value\": \"true\", \"set_environment_variable\": false}, {\"name\": \"Framework\", \"parameter_type\": \"3\", \"is_optional\": true, \"default_value\": \"Python\", \"set_environment_variable\": false}, {\"name\": \"Arguments\", \"parameter_type\": \"3\", \"is_optional\": true, \"default_value\": \"\", \"set_environment_variable\": false}, {\"name\": \"Script\", \"parameter_type\": \"3\", \"is_optional\": true, \"default_value\": \"noop.py\", \"set_environment_variable\": false}, {\"name\": \"MaxRunDurationSeconds\", \"parameter_type\": \"3\", \"is_optional\": true, \"default_value\": \"\", \"set_environment_variable\": false}, {\"name\": \"InterpreterPath\", \"parameter_type\": \"3\", \"is_optional\": true, \"default_value\": \"python\", \"set_environment_variable\": false}, {\"name\": \"UserManagedDependencies\", \"parameter_type\": \"3\", \"is_optional\": true, \"default_value\": \"false\", \"set_environment_variable\": false}, {\"name\": \"CondaDependencies\", \"parameter_type\": \"3\", \"is_optional\": true, \"default_value\": \"{\\\"name\\\": \\\"project_environment\\\", \\\"channels\\\": [\\\"defaults\\\"], \\\"dependencies\\\": [\\\"python=3.6.8\\\", {\\\"pip\\\": [\\\"azureml-defaults\\\"]}]}\\r\\n\", \"set_environment_variable\": false}, {\"name\": \"DockerEnabled\", \"parameter_type\": \"3\", \"is_optional\": true, \"default_value\": \"true\", \"set_environment_variable\": false}, {\"name\": \"BaseDockerImage\", \"parameter_type\": \"3\", \"is_optional\": true, \"default_value\": \"mcr.microsoft.com/azureml/base:intelmpi2018.3-ubuntu16.04\", \"set_environment_variable\": false}], \"metadata_parameters\": [{\"name\": \"TargetType\", \"parameter_type\": \"3\", \"is_optional\": true, \"default_value\": \"MLC\", \"set_environment_variable\": false}, {\"name\": \"RequireGpu\", \"parameter_type\": \"2\", \"is_optional\": true, \"default_value\": \"False\", \"set_environment_variable\": false}, {\"name\": \"HasServingEntry\", \"parameter_type\": \"2\", \"is_optional\": true, \"default_value\": \"False\", \"set_environment_variable\": false}, {\"name\": \"PassthroughServingMode\", \"parameter_type\": \"2\", \"is_optional\": true, \"default_value\": \"False\", \"set_environment_variable\": false}, {\"name\": \"ModuleUI\", \"parameter_type\": \"3\", \"is_optional\": true, \"default_value\": \"Default\", \"set_environment_variable\": false}, {\"name\": \"ModuleVersion\", \"parameter_type\": \"3\", \"is_optional\": true, \"default_value\": \"0.0.1\", \"set_environment_variable\": false}, {\"name\": \"Owner\", \"parameter_type\": \"3\", \"is_optional\": true, \"default_value\": \"\", \"set_environment_variable\": false}], \"arguments\": [{\"value_type\": \"0\", \"value\": \"--numinputs\"}, {\"value_type\": \"0\", \"value\": \"$NUM_INPUTS\"}, {\"value_type\": \"0\", \"value\": \"--numoutputs\"}, {\"value_type\": \"0\", \"value\": \"$NUM_OUTPUTS\"}, {\"value_type\": \"2\", \"value\": \"input1\"}, {\"value_type\": \"3\", \"value\": \"output1\"}]}, \"data_location\": {\"storage_type\": \"3\", \"storage_id\": \"36f1239e-b48c-4852-9609-e27402752642\"}, \"identifier_hash\": \"c2f91087d60edb514fca260db811015d\", \"tags\": {}, \"properties\": {\"Owner\": null, \"ModuleVersion\": \"0.0.1\", \"AmlModuleName\": \"microsoft.com/aml/samples://1 in 1 out\", \"ModuleName\": \"1 in 1 out\", \"Namespace\": \"microsoft.com/aml/samples\", \"FamilyId\": null, \"HelpDocument\": null, \"YamlLink\": \"1in1out.spec.yaml\", \"ModuleSourceType\": \"Local\", \"IsAnonymousModule\": \"True\"}, \"created_by\": {\"user_object_id\": \"32017ae3-7430-44bf-9a3c-9a201c8786f2\", \"user_tenant_id\": \"72f988bf-86f1-41af-91ab-2d7cd011db47\", \"user_name\": \"Jie Tong\"}, \"runconfig\": \"{\\r\\n  \\\"Script\\\": \\\"noop.py\\\",\\r\\n  \\\"UseAbsolutePath\\\": false,\\r\\n  \\\"Arguments\\\": [],\\r\\n  \\\"Framework\\\": \\\"Python\\\",\\r\\n  \\\"DataReferences\\\": {},\\r\\n  \\\"Data\\\": {},\\r\\n  \\\"Environment\\\": {\\r\\n    \\\"Python\\\": {\\r\\n      \\\"InterpreterPath\\\": \\\"python\\\",\\r\\n      \\\"UserManagedDependencies\\\": false,\\r\\n      \\\"CondaDependencies\\\": {\\r\\n        \\\"name\\\": \\\"project_environment\\\",\\r\\n        \\\"channels\\\": [\\r\\n          \\\"defaults\\\"\\r\\n        ],\\r\\n        \\\"dependencies\\\": [\\r\\n          \\\"python=3.6.8\\\",\\r\\n          {\\r\\n            \\\"pip\\\": [\\r\\n              \\\"azureml-defaults\\\"\\r\\n            ]\\r\\n          }\\r\\n        ]\\r\\n      }\\r\\n    },\\r\\n    \\\"Docker\\\": {\\r\\n      \\\"BaseImage\\\": \\\"mcr.microsoft.com/azureml/base:intelmpi2018.3-ubuntu16.04\\\",\\r\\n      \\\"Enabled\\\": true\\r\\n    },\\r\\n    \\\"Spark\\\": {\\r\\n      \\\"Repositories\\\": [],\\r\\n      \\\"Packages\\\": [],\\r\\n      \\\"PrecachePackages\\\": true\\r\\n    }\\r\\n  },\\r\\n  \\\"History\\\": {\\r\\n    \\\"OutputCollection\\\": false,\\r\\n    \\\"DirectoriesToWatch\\\": null\\r\\n  },\\r\\n  \\\"Spark\\\": {\\r\\n    \\\"Configuration\\\": {}\\r\\n  },\\r\\n  \\\"BatchAi\\\": {\\r\\n    \\\"NodeCount\\\": 0\\r\\n  },\\r\\n  \\\"AmlCompute\\\": {\\r\\n    \\\"RetainCluster\\\": false\\r\\n  },\\r\\n  \\\"Tensorflow\\\": {\\r\\n    \\\"WorkerCount\\\": 0,\\r\\n    \\\"ParameterServerCount\\\": 0\\r\\n  },\\r\\n  \\\"Mpi\\\": {\\r\\n    \\\"ProcessCountPerNode\\\": 0\\r\\n  },\\r\\n  \\\"Hdi\\\": {\\r\\n    \\\"YarnDeployMode\\\": \\\"None\\\"\\r\\n  },\\r\\n  \\\"ContainerInstance\\\": {\\r\\n    \\\"CpuCores\\\": 2.0,\\r\\n    \\\"MemoryGb\\\": 3.5\\r\\n  },\\r\\n  \\\"Docker\\\": {\\r\\n    \\\"UseDocker\\\": true,\\r\\n    \\\"SharedVolumes\\\": true\\r\\n  },\\r\\n  \\\"Cmk8sCompute\\\": {\\r\\n    \\\"Configuration\\\": {}\\r\\n  }\\r\\n}\", \"step_type\": \"PythonScriptModule\", \"name\": \"1 in 1 out\", \"entity_status\": \"0\", \"id\": \"739978df-5fa5-44ec-b68f-a5963d677eba\", \"etag\": \"\\\"16003555-0000-0100-0000-5ea6d1d70000\\\"\", \"created_date\": \"0001-01-01T00:00:00.000Z\", \"last_modified_date\": \"2020-04-27T12:36:39.79421Z\", \"module_id\": null, \"version\": \"1\"}], \"datasources\": [{\"name\": \"training_data\", \"description\": null, \"version\": 1, \"tags\": {}, \"registered_id\": \"77c23560-aef4-4002-bb27-9771607c5393\", \"saved_id\": \"507ff6de-1fb1-40f0-87a5-0b3bb05bd4c0\"}]};\n        </script>\n        <script src=\"https://yucongj-test.azureedge.net/libs/index.js?v=0.0.1\"></script>\n        "
     },
     "metadata": {}
    },
    {
     "output_type": "execute_result",
     "data": {
      "text/plain": "{'result': 'validation passed', 'errors': []}"
     },
     "metadata": {},
     "execution_count": 6
    }
   ],
   "source": [
    "@dsl.pipeline(name='A pipeline with several modules chained 1 by 1')\n",
    "def chain():\n",
    "    m1 = modulefunc(input1=data)\n",
    "    m2 = modulefunc(input1=m1.outputs.output1)\n",
    "\n",
    "pipeline = chain()\n",
    "\n",
    "pipeline.validate(ws, default_compute_target='cpu-cluster')"
   ]
  },
  {
   "cell_type": "code",
   "execution_count": 9,
   "metadata": {},
   "outputs": [
    {
     "output_type": "stream",
     "name": "stdout",
     "text": "Submitted PipelineRun 020ac07b-aede-4754-9934-921e85c48c1b\nLink to Azure Machine Learning Portal: https://ml.azure.com/experiments/samples/runs/020ac07b-aede-4754-9934-921e85c48c1b?wsid=/subscriptions/74eccef0-4b8d-4f83-b5f9-fa100d155b22/resourcegroups/kubeflow-demo/workspaces/kubeflow_ws_1\n"
    },
    {
     "output_type": "execute_result",
     "data": {
      "text/plain": "Run(Experiment: samples,\nId: 020ac07b-aede-4754-9934-921e85c48c1b,\nType: azureml.PipelineRun,\nStatus: NotStarted)",
      "text/html": "<table style=\"width:100%\"><tr><th>Experiment</th><th>Id</th><th>Type</th><th>Status</th><th>Details Page</th><th>Docs Page</th></tr><tr><td>samples</td><td>020ac07b-aede-4754-9934-921e85c48c1b</td><td>azureml.PipelineRun</td><td>NotStarted</td><td><a href=\"https://ml.azure.com/experiments/samples/runs/020ac07b-aede-4754-9934-921e85c48c1b?wsid=/subscriptions/74eccef0-4b8d-4f83-b5f9-fa100d155b22/resourcegroups/kubeflow-demo/workspaces/kubeflow_ws_1\" target=\"_blank\" rel=\"noopener\">Link to Azure Machine Learning studio</a></td><td><a href=\"https://docs.microsoft.com/en-us/python/api/overview/azure/ml/intro?view=azure-ml-py\" target=\"_blank\" rel=\"noopener\">Link to Documentation</a></td></tr></table>"
     },
     "metadata": {},
     "execution_count": 9
    }
   ],
   "source": [
    "pipeline.submit_run(ws, experiment_name='samples', default_compute_target='cpu-cluster')"
   ]
  },
  {
   "cell_type": "code",
   "execution_count": null,
   "metadata": {},
   "outputs": [],
   "source": []
  }
 ],
 "metadata": {
  "language_info": {
   "codemirror_mode": {
    "name": "ipython",
    "version": 3
   },
   "file_extension": ".py",
   "mimetype": "text/x-python",
   "name": "python",
   "nbconvert_exporter": "python",
   "pygments_lexer": "ipython3",
   "version": "3.6.10-final"
  },
  "orig_nbformat": 2,
  "kernelspec": {
   "name": "python3",
   "display_name": "Python 3"
  }
 },
 "nbformat": 4,
 "nbformat_minor": 2
}